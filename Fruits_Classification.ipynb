{
  "nbformat": 4,
  "nbformat_minor": 0,
  "metadata": {
    "kernelspec": {
      "display_name": "Python 3",
      "language": "python",
      "name": "python3"
    },
    "language_info": {
      "codemirror_mode": {
        "name": "ipython",
        "version": 3
      },
      "file_extension": ".py",
      "mimetype": "text/x-python",
      "name": "python",
      "nbconvert_exporter": "python",
      "pygments_lexer": "ipython3",
      "version": "3.5.2"
    },
    "colab": {
      "name": "Fruits Classification.ipynb",
      "provenance": [],
      "collapsed_sections": [],
      "toc_visible": true
    }
  },
  "cells": [
    {
      "cell_type": "markdown",
      "metadata": {
        "deletable": true,
        "editable": true,
        "id": "HxYNFCVdZtTi",
        "colab_type": "text"
      },
      "source": [
        "##### The fruits dataset was created by Dr. Iain Murray from University of Edinburgh. He bought a few dozen oranges, lemons and apples of different varieties, and recorded their measurements in a table.\n",
        "\n",
        "And then the professors at University of Michigan formatted the fruits data slightly. The Python library and the dataset is open for learning purposes.\n",
        "\n",
        "The goal of this problem is to design a Machine Learning solution which can predict the fruit, given it's mass, width, height and color score."
      ]
    },
    {
      "cell_type": "code",
      "metadata": {
        "deletable": true,
        "editable": true,
        "id": "42YUnkaoZtTl",
        "colab_type": "code",
        "colab": {
          "base_uri": "https://localhost:8080/",
          "height": 75
        },
        "outputId": "10bc8b75-c2b8-47d6-8e98-eb0be58dcded"
      },
      "source": [
        "import pandas as pd\n",
        "import numpy as np\n",
        "import matplotlib.pyplot as plt\n",
        "import seaborn as sns\n",
        "%matplotlib inline"
      ],
      "execution_count": 1,
      "outputs": [
        {
          "output_type": "stream",
          "text": [
            "/usr/local/lib/python3.6/dist-packages/statsmodels/tools/_testing.py:19: FutureWarning: pandas.util.testing is deprecated. Use the functions in the public API at pandas.testing instead.\n",
            "  import pandas.util.testing as tm\n"
          ],
          "name": "stderr"
        }
      ]
    },
    {
      "cell_type": "code",
      "metadata": {
        "deletable": true,
        "editable": true,
        "id": "no884MkqZtT9",
        "colab_type": "code",
        "colab": {
          "base_uri": "https://localhost:8080/",
          "height": 206
        },
        "outputId": "7da4db18-cf4a-4ad8-f96a-494b81809efa"
      },
      "source": [
        "dataset = pd.read_table(\"fruit_data_with_colors.txt\")\n",
        "dataset.head()"
      ],
      "execution_count": 2,
      "outputs": [
        {
          "output_type": "execute_result",
          "data": {
            "text/html": [
              "<div>\n",
              "<style scoped>\n",
              "    .dataframe tbody tr th:only-of-type {\n",
              "        vertical-align: middle;\n",
              "    }\n",
              "\n",
              "    .dataframe tbody tr th {\n",
              "        vertical-align: top;\n",
              "    }\n",
              "\n",
              "    .dataframe thead th {\n",
              "        text-align: right;\n",
              "    }\n",
              "</style>\n",
              "<table border=\"1\" class=\"dataframe\">\n",
              "  <thead>\n",
              "    <tr style=\"text-align: right;\">\n",
              "      <th></th>\n",
              "      <th>fruit_label</th>\n",
              "      <th>fruit_name</th>\n",
              "      <th>fruit_subtype</th>\n",
              "      <th>mass</th>\n",
              "      <th>width</th>\n",
              "      <th>height</th>\n",
              "      <th>color_score</th>\n",
              "    </tr>\n",
              "  </thead>\n",
              "  <tbody>\n",
              "    <tr>\n",
              "      <th>0</th>\n",
              "      <td>1</td>\n",
              "      <td>apple</td>\n",
              "      <td>granny_smith</td>\n",
              "      <td>192</td>\n",
              "      <td>8.4</td>\n",
              "      <td>7.3</td>\n",
              "      <td>0.55</td>\n",
              "    </tr>\n",
              "    <tr>\n",
              "      <th>1</th>\n",
              "      <td>1</td>\n",
              "      <td>apple</td>\n",
              "      <td>granny_smith</td>\n",
              "      <td>180</td>\n",
              "      <td>8.0</td>\n",
              "      <td>6.8</td>\n",
              "      <td>0.59</td>\n",
              "    </tr>\n",
              "    <tr>\n",
              "      <th>2</th>\n",
              "      <td>1</td>\n",
              "      <td>apple</td>\n",
              "      <td>granny_smith</td>\n",
              "      <td>176</td>\n",
              "      <td>7.4</td>\n",
              "      <td>7.2</td>\n",
              "      <td>0.60</td>\n",
              "    </tr>\n",
              "    <tr>\n",
              "      <th>3</th>\n",
              "      <td>2</td>\n",
              "      <td>mandarin</td>\n",
              "      <td>mandarin</td>\n",
              "      <td>86</td>\n",
              "      <td>6.2</td>\n",
              "      <td>4.7</td>\n",
              "      <td>0.80</td>\n",
              "    </tr>\n",
              "    <tr>\n",
              "      <th>4</th>\n",
              "      <td>2</td>\n",
              "      <td>mandarin</td>\n",
              "      <td>mandarin</td>\n",
              "      <td>84</td>\n",
              "      <td>6.0</td>\n",
              "      <td>4.6</td>\n",
              "      <td>0.79</td>\n",
              "    </tr>\n",
              "  </tbody>\n",
              "</table>\n",
              "</div>"
            ],
            "text/plain": [
              "   fruit_label fruit_name fruit_subtype  mass  width  height  color_score\n",
              "0            1      apple  granny_smith   192    8.4     7.3         0.55\n",
              "1            1      apple  granny_smith   180    8.0     6.8         0.59\n",
              "2            1      apple  granny_smith   176    7.4     7.2         0.60\n",
              "3            2   mandarin      mandarin    86    6.2     4.7         0.80\n",
              "4            2   mandarin      mandarin    84    6.0     4.6         0.79"
            ]
          },
          "metadata": {
            "tags": []
          },
          "execution_count": 2
        }
      ]
    },
    {
      "cell_type": "code",
      "metadata": {
        "deletable": true,
        "editable": true,
        "id": "Uo1D_8XYZtUI",
        "colab_type": "code",
        "colab": {
          "base_uri": "https://localhost:8080/",
          "height": 36
        },
        "outputId": "c308f66e-8ce0-4660-e6ce-3d6d1b77995b"
      },
      "source": [
        "dataset.shape\n",
        "#59 rows and 7 features!"
      ],
      "execution_count": 3,
      "outputs": [
        {
          "output_type": "execute_result",
          "data": {
            "text/plain": [
              "(59, 7)"
            ]
          },
          "metadata": {
            "tags": []
          },
          "execution_count": 3
        }
      ]
    },
    {
      "cell_type": "code",
      "metadata": {
        "deletable": true,
        "editable": true,
        "id": "VR3Msp45ZtUS",
        "colab_type": "code",
        "colab": {
          "base_uri": "https://localhost:8080/",
          "height": 36
        },
        "outputId": "0d049c56-dadd-4881-baea-c25c510dd679"
      },
      "source": [
        "#5 unique fruits!\n",
        "dataset['fruit_name'].unique()"
      ],
      "execution_count": 4,
      "outputs": [
        {
          "output_type": "execute_result",
          "data": {
            "text/plain": [
              "array(['apple', 'mandarin', 'orange', 'lemon'], dtype=object)"
            ]
          },
          "metadata": {
            "tags": []
          },
          "execution_count": 4
        }
      ]
    },
    {
      "cell_type": "code",
      "metadata": {
        "deletable": true,
        "editable": true,
        "id": "PqCzT1j-ZtUa",
        "colab_type": "code",
        "colab": {
          "base_uri": "https://localhost:8080/",
          "height": 130
        },
        "outputId": "a7850432-7691-49b2-aa8c-2cd9c2cca290"
      },
      "source": [
        "dataset.groupby('fruit_name').size()"
      ],
      "execution_count": 5,
      "outputs": [
        {
          "output_type": "execute_result",
          "data": {
            "text/plain": [
              "fruit_name\n",
              "apple       19\n",
              "lemon       16\n",
              "mandarin     5\n",
              "orange      19\n",
              "dtype: int64"
            ]
          },
          "metadata": {
            "tags": []
          },
          "execution_count": 5
        }
      ]
    },
    {
      "cell_type": "code",
      "metadata": {
        "id": "ToRvxtbPaZvw",
        "colab_type": "code",
        "colab": {
          "base_uri": "https://localhost:8080/",
          "height": 280
        },
        "outputId": "5b46f0fa-4edb-4a9d-f503-e9162fdb7d83"
      },
      "source": [
        "sns.countplot(dataset['fruit_name'],label=\"Count\")\n",
        "plt.show()"
      ],
      "execution_count": 6,
      "outputs": [
        {
          "output_type": "display_data",
          "data": {
            "image/png": "[encoded data removed]",
            "text/plain": [
              "<Figure size 432x288 with 1 Axes>"
            ]
          },
          "metadata": {
            "tags": [],
            "needs_background": "light"
          }
        }
      ]
    },
    {
      "cell_type": "code",
      "metadata": {
        "id": "-BAS4q8XZtUj",
        "colab_type": "code",
        "colab": {
          "base_uri": "https://localhost:8080/",
          "height": 300
        },
        "outputId": "a75ac79d-4948-4196-a8c3-1fb9f2b8c260"
      },
      "source": [
        "dataset.describe()"
      ],
      "execution_count": 7,
      "outputs": [
        {
          "output_type": "execute_result",
          "data": {
            "text/html": [
              "<div>\n",
              "<style scoped>\n",
              "    .dataframe tbody tr th:only-of-type {\n",
              "        vertical-align: middle;\n",
              "    }\n",
              "\n",
              "    .dataframe tbody tr th {\n",
              "        vertical-align: top;\n",
              "    }\n",
              "\n",
              "    .dataframe thead th {\n",
              "        text-align: right;\n",
              "    }\n",
              "</style>\n",
              "<table border=\"1\" class=\"dataframe\">\n",
              "  <thead>\n",
              "    <tr style=\"text-align: right;\">\n",
              "      <th></th>\n",
              "      <th>fruit_label</th>\n",
              "      <th>mass</th>\n",
              "      <th>width</th>\n",
              "      <th>height</th>\n",
              "      <th>color_score</th>\n",
              "    </tr>\n",
              "  </thead>\n",
              "  <tbody>\n",
              "    <tr>\n",
              "      <th>count</th>\n",
              "      <td>59.000000</td>\n",
              "      <td>59.000000</td>\n",
              "      <td>59.000000</td>\n",
              "      <td>59.000000</td>\n",
              "      <td>59.000000</td>\n",
              "    </tr>\n",
              "    <tr>\n",
              "      <th>mean</th>\n",
              "      <td>2.542373</td>\n",
              "      <td>163.118644</td>\n",
              "      <td>7.105085</td>\n",
              "      <td>7.693220</td>\n",
              "      <td>0.762881</td>\n",
              "    </tr>\n",
              "    <tr>\n",
              "      <th>std</th>\n",
              "      <td>1.208048</td>\n",
              "      <td>55.018832</td>\n",
              "      <td>0.816938</td>\n",
              "      <td>1.361017</td>\n",
              "      <td>0.076857</td>\n",
              "    </tr>\n",
              "    <tr>\n",
              "      <th>min</th>\n",
              "      <td>1.000000</td>\n",
              "      <td>76.000000</td>\n",
              "      <td>5.800000</td>\n",
              "      <td>4.000000</td>\n",
              "      <td>0.550000</td>\n",
              "    </tr>\n",
              "    <tr>\n",
              "      <th>25%</th>\n",
              "      <td>1.000000</td>\n",
              "      <td>140.000000</td>\n",
              "      <td>6.600000</td>\n",
              "      <td>7.200000</td>\n",
              "      <td>0.720000</td>\n",
              "    </tr>\n",
              "    <tr>\n",
              "      <th>50%</th>\n",
              "      <td>3.000000</td>\n",
              "      <td>158.000000</td>\n",
              "      <td>7.200000</td>\n",
              "      <td>7.600000</td>\n",
              "      <td>0.750000</td>\n",
              "    </tr>\n",
              "    <tr>\n",
              "      <th>75%</th>\n",
              "      <td>4.000000</td>\n",
              "      <td>177.000000</td>\n",
              "      <td>7.500000</td>\n",
              "      <td>8.200000</td>\n",
              "      <td>0.810000</td>\n",
              "    </tr>\n",
              "    <tr>\n",
              "      <th>max</th>\n",
              "      <td>4.000000</td>\n",
              "      <td>362.000000</td>\n",
              "      <td>9.600000</td>\n",
              "      <td>10.500000</td>\n",
              "      <td>0.930000</td>\n",
              "    </tr>\n",
              "  </tbody>\n",
              "</table>\n",
              "</div>"
            ],
            "text/plain": [
              "       fruit_label        mass      width     height  color_score\n",
              "count    59.000000   59.000000  59.000000  59.000000    59.000000\n",
              "mean      2.542373  163.118644   7.105085   7.693220     0.762881\n",
              "std       1.208048   55.018832   0.816938   1.361017     0.076857\n",
              "min       1.000000   76.000000   5.800000   4.000000     0.550000\n",
              "25%       1.000000  140.000000   6.600000   7.200000     0.720000\n",
              "50%       3.000000  158.000000   7.200000   7.600000     0.750000\n",
              "75%       4.000000  177.000000   7.500000   8.200000     0.810000\n",
              "max       4.000000  362.000000   9.600000  10.500000     0.930000"
            ]
          },
          "metadata": {
            "tags": []
          },
          "execution_count": 7
        }
      ]
    },
    {
      "cell_type": "markdown",
      "metadata": {
        "deletable": true,
        "editable": true,
        "id": "HwHikkGfZtUr",
        "colab_type": "text"
      },
      "source": [
        "We can also observe that, numeric values do not have same scale. Thus, we need feature scaling to covert them into same numeric range."
      ]
    },
    {
      "cell_type": "code",
      "metadata": {
        "deletable": true,
        "editable": true,
        "id": "g6b52yoeZtUt",
        "colab_type": "code",
        "colab": {}
      },
      "source": [
        "feature_names = ['mass', 'width', 'height', 'color_score']\n",
        "X = dataset[feature_names].values\n",
        "y = dataset['fruit_name'].values\n",
        "\n",
        "from sklearn.model_selection import train_test_split\n",
        "X_train,X_test,y_train,y_test = train_test_split(X,y,random_state=1,test_size=0.2)"
      ],
      "execution_count": 8,
      "outputs": []
    },
    {
      "cell_type": "code",
      "metadata": {
        "deletable": true,
        "editable": true,
        "id": "__5mpOG3ZtU0",
        "colab_type": "code",
        "colab": {}
      },
      "source": [
        "from sklearn.preprocessing import MinMaxScaler\n",
        "scaler = MinMaxScaler()\n",
        "\n",
        "X_train = scaler.fit_transform(X_train)\n",
        "X_test = scaler.transform(X_test)"
      ],
      "execution_count": 9,
      "outputs": []
    },
    {
      "cell_type": "code",
      "metadata": {
        "id": "jh-u7TsdZtU5",
        "colab_type": "code",
        "colab": {}
      },
      "source": [
        "from sklearn.preprocessing import StandardScaler\n",
        "sc = StandardScaler()\n",
        "\n",
        "X_train = sc.fit_transform(X_train)\n",
        "X_test = sc.fit_transform(X_test)"
      ],
      "execution_count": 10,
      "outputs": []
    },
    {
      "cell_type": "markdown",
      "metadata": {
        "deletable": true,
        "editable": true,
        "id": "vroilqmvZtVB",
        "colab_type": "text"
      },
      "source": [
        "### Let's build actual models and compare them!"
      ]
    },
    {
      "cell_type": "markdown",
      "metadata": {
        "deletable": true,
        "editable": true,
        "id": "uA09ZMwvZtVC",
        "colab_type": "text"
      },
      "source": [
        "#### Logistic Regression Model"
      ]
    },
    {
      "cell_type": "code",
      "metadata": {
        "deletable": true,
        "editable": true,
        "id": "X6FxhrJFZtVD",
        "colab_type": "code",
        "colab": {
          "base_uri": "https://localhost:8080/",
          "height": 92
        },
        "outputId": "ec2b3514-59c0-4432-edcf-546bf03b9945"
      },
      "source": [
        "from sklearn.linear_model import LogisticRegression\n",
        "LRRegressor = LogisticRegression(random_state=1,n_jobs=-1)\n",
        "LRRegressor.fit(X_train,y_train)"
      ],
      "execution_count": 11,
      "outputs": [
        {
          "output_type": "execute_result",
          "data": {
            "text/plain": [
              "LogisticRegression(C=1.0, class_weight=None, dual=False, fit_intercept=True,\n",
              "                   intercept_scaling=1, l1_ratio=None, max_iter=100,\n",
              "                   multi_class='auto', n_jobs=-1, penalty='l2', random_state=1,\n",
              "                   solver='lbfgs', tol=0.0001, verbose=0, warm_start=False)"
            ]
          },
          "metadata": {
            "tags": []
          },
          "execution_count": 11
        }
      ]
    },
    {
      "cell_type": "code",
      "metadata": {
        "deletable": true,
        "editable": true,
        "id": "MmpRRpxvZtVL",
        "colab_type": "code",
        "colab": {
          "base_uri": "https://localhost:8080/",
          "height": 55
        },
        "outputId": "5defec30-365c-4956-985e-1b8b5c68e3bb"
      },
      "source": [
        "print(\"Training Accuracy on LR : \",LRRegressor.score(X_train,y_train) * 100)\n",
        "print(\"Testing Accuracy on LR : \",LRRegressor.score(X_test,y_test) * 100)"
      ],
      "execution_count": 12,
      "outputs": [
        {
          "output_type": "stream",
          "text": [
            "Training Accuracy on LR :  80.85106382978722\n",
            "Testing Accuracy on LR :  41.66666666666667\n"
          ],
          "name": "stdout"
        }
      ]
    },
    {
      "cell_type": "markdown",
      "metadata": {
        "deletable": true,
        "editable": true,
        "id": "o0Vp7ylKZtVS",
        "colab_type": "text"
      },
      "source": [
        "#### Decision Tree Classifier Model"
      ]
    },
    {
      "cell_type": "code",
      "metadata": {
        "deletable": true,
        "editable": true,
        "id": "twoQYgWsZtVT",
        "colab_type": "code",
        "colab": {
          "base_uri": "https://localhost:8080/",
          "height": 130
        },
        "outputId": "6ede88df-618a-472c-cfc5-2eb0bc7c3cfa"
      },
      "source": [
        "from sklearn.tree import DecisionTreeClassifier\n",
        "DTRegressor = DecisionTreeClassifier(criterion='gini',random_state=1)\n",
        "DTRegressor.fit(X_train,y_train)"
      ],
      "execution_count": 13,
      "outputs": [
        {
          "output_type": "execute_result",
          "data": {
            "text/plain": [
              "DecisionTreeClassifier(ccp_alpha=0.0, class_weight=None, criterion='gini',\n",
              "                       max_depth=None, max_features=None, max_leaf_nodes=None,\n",
              "                       min_impurity_decrease=0.0, min_impurity_split=None,\n",
              "                       min_samples_leaf=1, min_samples_split=2,\n",
              "                       min_weight_fraction_leaf=0.0, presort='deprecated',\n",
              "                       random_state=1, splitter='best')"
            ]
          },
          "metadata": {
            "tags": []
          },
          "execution_count": 13
        }
      ]
    },
    {
      "cell_type": "code",
      "metadata": {
        "deletable": true,
        "editable": true,
        "id": "SBpt1rexZtVc",
        "colab_type": "code",
        "colab": {
          "base_uri": "https://localhost:8080/",
          "height": 55
        },
        "outputId": "479013b9-4831-427e-cd7e-b1c1817fba3c"
      },
      "source": [
        "print(\"Training Accuracy on Decision Tree : \",DTRegressor.score(X_train,y_train) * 100)\n",
        "print(\"Testing Accuracy on Decision Tree : \",DTRegressor.score(X_test,y_test) * 100)"
      ],
      "execution_count": 14,
      "outputs": [
        {
          "output_type": "stream",
          "text": [
            "Training Accuracy on Decision Tree :  100.0\n",
            "Testing Accuracy on Decision Tree :  100.0\n"
          ],
          "name": "stdout"
        }
      ]
    },
    {
      "cell_type": "markdown",
      "metadata": {
        "deletable": true,
        "editable": true,
        "id": "-BFrFkHzZtVj",
        "colab_type": "text"
      },
      "source": [
        "#### KNN Classifier Model"
      ]
    },
    {
      "cell_type": "code",
      "metadata": {
        "deletable": true,
        "editable": true,
        "id": "udK3lUQFZtVk",
        "colab_type": "code",
        "colab": {
          "base_uri": "https://localhost:8080/",
          "height": 73
        },
        "outputId": "031545d1-208d-418e-a17c-dd2cd90c2631"
      },
      "source": [
        "from sklearn.neighbors import KNeighborsClassifier\n",
        "KNNRegressor = KNeighborsClassifier(n_neighbors=1,n_jobs=-1,weights='distance')\n",
        "KNNRegressor.fit(X_train,y_train)"
      ],
      "execution_count": 15,
      "outputs": [
        {
          "output_type": "execute_result",
          "data": {
            "text/plain": [
              "KNeighborsClassifier(algorithm='auto', leaf_size=30, metric='minkowski',\n",
              "                     metric_params=None, n_jobs=-1, n_neighbors=1, p=2,\n",
              "                     weights='distance')"
            ]
          },
          "metadata": {
            "tags": []
          },
          "execution_count": 15
        }
      ]
    },
    {
      "cell_type": "code",
      "metadata": {
        "deletable": true,
        "editable": true,
        "id": "4rmL1WxbZtVs",
        "colab_type": "code",
        "colab": {
          "base_uri": "https://localhost:8080/",
          "height": 55
        },
        "outputId": "1c3616eb-c2c7-42ef-8af1-84080cd07199"
      },
      "source": [
        "print(\"Training Accuracy on KNN : \",KNNRegressor.score(X_train,y_train) * 100)\n",
        "print(\"Testing Accuracy on KNN : \",KNNRegressor.score(X_test,y_test) * 100)"
      ],
      "execution_count": 16,
      "outputs": [
        {
          "output_type": "stream",
          "text": [
            "Training Accuracy on KNN :  100.0\n",
            "Testing Accuracy on KNN :  91.66666666666666\n"
          ],
          "name": "stdout"
        }
      ]
    },
    {
      "cell_type": "markdown",
      "metadata": {
        "deletable": true,
        "editable": true,
        "id": "3rTmR-hoZtVz",
        "colab_type": "text"
      },
      "source": [
        "### Ending Notes:\n",
        "This is an intro project for ML practioners. As beginners may wonder how can we achieve 100% with ease, the reason is as dataset is very small,we get 100% accuracy on simple algorithms.\n",
        "\n"
      ]
    }
  ]
}