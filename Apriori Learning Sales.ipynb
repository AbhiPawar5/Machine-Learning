{
  "nbformat": 4,
  "nbformat_minor": 0,
  "metadata": {
    "kernelspec": {
      "display_name": "Python 3",
      "language": "python",
      "name": "python3"
    },
    "language_info": {
      "codemirror_mode": {
        "name": "ipython",
        "version": 3
      },
      "file_extension": ".py",
      "mimetype": "text/x-python",
      "name": "python",
      "nbconvert_exporter": "python",
      "pygments_lexer": "ipython3",
      "version": "3.5.2"
    },
    "colab": {
      "name": "Apriori Learning Sales.ipynb",
      "provenance": [],
      "collapsed_sections": [],
      "toc_visible": true
    }
  },
  "cells": [
    {
      "cell_type": "markdown",
      "metadata": {
        "id": "JzMuAx7vKWTG",
        "colab_type": "text"
      },
      "source": [
        "Market Basket Analysis is a type of frequent itemset mining which analyzes customer buying habits by finding associations between the different items that customers place in their “shopping baskets”. The discovery of these associations can help retailers develop marketing strategies by gaining insight into which items are frequently purchased together by customers.\n",
        "\n",
        "With Market Basket Analysis, the buying patterns of the customers are represented using“Association Rules”. The interestingness of a rule is measured using two metrics viz. support and confidence."
      ]
    },
    {
      "cell_type": "code",
      "metadata": {
        "deletable": true,
        "editable": true,
        "id": "Mff8uEK2IBVR",
        "colab_type": "code",
        "colab": {}
      },
      "source": [
        "import pandas as pd\n",
        "import numpy as np\n",
        "import matplotlib.pyplot as plt"
      ],
      "execution_count": 1,
      "outputs": []
    },
    {
      "cell_type": "markdown",
      "metadata": {
        "id": "Gi6rvD_vJgG2",
        "colab_type": "text"
      },
      "source": [
        "### Why use Apyori package?\n",
        "\n",
        "\n",
        "1.   Consists of only one file with no dependencies!\n",
        "2.   Can be used as API.\n",
        "3.   Supports JSON output format.\n",
        "\n"
      ]
    },
    {
      "cell_type": "code",
      "metadata": {
        "id": "K86QPQgAI8lj",
        "colab_type": "code",
        "colab": {
          "base_uri": "https://localhost:8080/",
          "height": 36
        },
        "outputId": "357df55b-a75e-4dee-90fd-786e1b108bfb"
      },
      "source": [
        "!pip install apyori"
      ],
      "execution_count": 2,
      "outputs": [
        {
          "output_type": "stream",
          "text": [
            "Requirement already satisfied: apyori in /usr/local/lib/python3.6/dist-packages (1.1.2)\n"
          ],
          "name": "stdout"
        }
      ]
    },
    {
      "cell_type": "markdown",
      "metadata": {
        "id": "gw9WJNsLML8k",
        "colab_type": "text"
      },
      "source": [
        "The dataset is publicly available on Kaggle:\n",
        "https://www.kaggle.com/hemanthkumar05/market-basket-optimization"
      ]
    },
    {
      "cell_type": "code",
      "metadata": {
        "deletable": true,
        "editable": true,
        "id": "eFadmP6sIBVi",
        "colab_type": "code",
        "colab": {
          "base_uri": "https://localhost:8080/",
          "height": 278
        },
        "outputId": "d5f3a24e-4ed1-4ee7-ef18-92f244c273d8"
      },
      "source": [
        "dataset = pd.read_csv(\"./sample_data/Market_Basket_Optimisation.csv\" , header=None)\n",
        "dataset.head()"
      ],
      "execution_count": 3,
      "outputs": [
        {
          "output_type": "execute_result",
          "data": {
            "text/html": [
              "<div>\n",
              "<style scoped>\n",
              "    .dataframe tbody tr th:only-of-type {\n",
              "        vertical-align: middle;\n",
              "    }\n",
              "\n",
              "    .dataframe tbody tr th {\n",
              "        vertical-align: top;\n",
              "    }\n",
              "\n",
              "    .dataframe thead th {\n",
              "        text-align: right;\n",
              "    }\n",
              "</style>\n",
              "<table border=\"1\" class=\"dataframe\">\n",
              "  <thead>\n",
              "    <tr style=\"text-align: right;\">\n",
              "      <th></th>\n",
              "      <th>0</th>\n",
              "      <th>1</th>\n",
              "      <th>2</th>\n",
              "      <th>3</th>\n",
              "      <th>4</th>\n",
              "      <th>5</th>\n",
              "      <th>6</th>\n",
              "      <th>7</th>\n",
              "      <th>8</th>\n",
              "      <th>9</th>\n",
              "      <th>10</th>\n",
              "      <th>11</th>\n",
              "      <th>12</th>\n",
              "      <th>13</th>\n",
              "      <th>14</th>\n",
              "      <th>15</th>\n",
              "      <th>16</th>\n",
              "      <th>17</th>\n",
              "      <th>18</th>\n",
              "      <th>19</th>\n",
              "    </tr>\n",
              "  </thead>\n",
              "  <tbody>\n",
              "    <tr>\n",
              "      <th>0</th>\n",
              "      <td>shrimp</td>\n",
              "      <td>almonds</td>\n",
              "      <td>avocado</td>\n",
              "      <td>vegetables mix</td>\n",
              "      <td>green grapes</td>\n",
              "      <td>whole weat flour</td>\n",
              "      <td>yams</td>\n",
              "      <td>cottage cheese</td>\n",
              "      <td>energy drink</td>\n",
              "      <td>tomato juice</td>\n",
              "      <td>low fat yogurt</td>\n",
              "      <td>green tea</td>\n",
              "      <td>honey</td>\n",
              "      <td>salad</td>\n",
              "      <td>mineral water</td>\n",
              "      <td>salmon</td>\n",
              "      <td>antioxydant juice</td>\n",
              "      <td>frozen smoothie</td>\n",
              "      <td>spinach</td>\n",
              "      <td>olive oil</td>\n",
              "    </tr>\n",
              "    <tr>\n",
              "      <th>1</th>\n",
              "      <td>burgers</td>\n",
              "      <td>meatballs</td>\n",
              "      <td>eggs</td>\n",
              "      <td>NaN</td>\n",
              "      <td>NaN</td>\n",
              "      <td>NaN</td>\n",
              "      <td>NaN</td>\n",
              "      <td>NaN</td>\n",
              "      <td>NaN</td>\n",
              "      <td>NaN</td>\n",
              "      <td>NaN</td>\n",
              "      <td>NaN</td>\n",
              "      <td>NaN</td>\n",
              "      <td>NaN</td>\n",
              "      <td>NaN</td>\n",
              "      <td>NaN</td>\n",
              "      <td>NaN</td>\n",
              "      <td>NaN</td>\n",
              "      <td>NaN</td>\n",
              "      <td>NaN</td>\n",
              "    </tr>\n",
              "    <tr>\n",
              "      <th>2</th>\n",
              "      <td>chutney</td>\n",
              "      <td>NaN</td>\n",
              "      <td>NaN</td>\n",
              "      <td>NaN</td>\n",
              "      <td>NaN</td>\n",
              "      <td>NaN</td>\n",
              "      <td>NaN</td>\n",
              "      <td>NaN</td>\n",
              "      <td>NaN</td>\n",
              "      <td>NaN</td>\n",
              "      <td>NaN</td>\n",
              "      <td>NaN</td>\n",
              "      <td>NaN</td>\n",
              "      <td>NaN</td>\n",
              "      <td>NaN</td>\n",
              "      <td>NaN</td>\n",
              "      <td>NaN</td>\n",
              "      <td>NaN</td>\n",
              "      <td>NaN</td>\n",
              "      <td>NaN</td>\n",
              "    </tr>\n",
              "    <tr>\n",
              "      <th>3</th>\n",
              "      <td>turkey</td>\n",
              "      <td>avocado</td>\n",
              "      <td>NaN</td>\n",
              "      <td>NaN</td>\n",
              "      <td>NaN</td>\n",
              "      <td>NaN</td>\n",
              "      <td>NaN</td>\n",
              "      <td>NaN</td>\n",
              "      <td>NaN</td>\n",
              "      <td>NaN</td>\n",
              "      <td>NaN</td>\n",
              "      <td>NaN</td>\n",
              "      <td>NaN</td>\n",
              "      <td>NaN</td>\n",
              "      <td>NaN</td>\n",
              "      <td>NaN</td>\n",
              "      <td>NaN</td>\n",
              "      <td>NaN</td>\n",
              "      <td>NaN</td>\n",
              "      <td>NaN</td>\n",
              "    </tr>\n",
              "    <tr>\n",
              "      <th>4</th>\n",
              "      <td>mineral water</td>\n",
              "      <td>milk</td>\n",
              "      <td>energy bar</td>\n",
              "      <td>whole wheat rice</td>\n",
              "      <td>green tea</td>\n",
              "      <td>NaN</td>\n",
              "      <td>NaN</td>\n",
              "      <td>NaN</td>\n",
              "      <td>NaN</td>\n",
              "      <td>NaN</td>\n",
              "      <td>NaN</td>\n",
              "      <td>NaN</td>\n",
              "      <td>NaN</td>\n",
              "      <td>NaN</td>\n",
              "      <td>NaN</td>\n",
              "      <td>NaN</td>\n",
              "      <td>NaN</td>\n",
              "      <td>NaN</td>\n",
              "      <td>NaN</td>\n",
              "      <td>NaN</td>\n",
              "    </tr>\n",
              "  </tbody>\n",
              "</table>\n",
              "</div>"
            ],
            "text/plain": [
              "              0          1           2   ...               17       18         19\n",
              "0         shrimp    almonds     avocado  ...  frozen smoothie  spinach  olive oil\n",
              "1        burgers  meatballs        eggs  ...              NaN      NaN        NaN\n",
              "2        chutney        NaN         NaN  ...              NaN      NaN        NaN\n",
              "3         turkey    avocado         NaN  ...              NaN      NaN        NaN\n",
              "4  mineral water       milk  energy bar  ...              NaN      NaN        NaN\n",
              "\n",
              "[5 rows x 20 columns]"
            ]
          },
          "metadata": {
            "tags": []
          },
          "execution_count": 3
        }
      ]
    },
    {
      "cell_type": "code",
      "metadata": {
        "deletable": true,
        "editable": true,
        "id": "bdZlxOD9IBVx",
        "colab_type": "code",
        "colab": {}
      },
      "source": [
        "#We need list of list for our apyori package implementation\n",
        "transcations = []"
      ],
      "execution_count": 4,
      "outputs": []
    },
    {
      "cell_type": "code",
      "metadata": {
        "id": "xQesF_UTIBV6",
        "colab_type": "code",
        "colab": {
          "base_uri": "https://localhost:8080/",
          "height": 392
        },
        "outputId": "af94a702-cecb-48bd-9169-507f48da5b50"
      },
      "source": [
        "for i in range(len(dataset)):\n",
        "    transcations.append([str(dataset.values[i,j]) for j in range(0,20)])\n",
        "\n",
        "transcations[0]"
      ],
      "execution_count": 5,
      "outputs": [
        {
          "output_type": "execute_result",
          "data": {
            "text/plain": [
              "['shrimp',\n",
              " 'almonds',\n",
              " 'avocado',\n",
              " 'vegetables mix',\n",
              " 'green grapes',\n",
              " 'whole weat flour',\n",
              " 'yams',\n",
              " 'cottage cheese',\n",
              " 'energy drink',\n",
              " 'tomato juice',\n",
              " 'low fat yogurt',\n",
              " 'green tea',\n",
              " 'honey',\n",
              " 'salad',\n",
              " 'mineral water',\n",
              " 'salmon',\n",
              " 'antioxydant juice',\n",
              " 'frozen smoothie',\n",
              " 'spinach',\n",
              " 'olive oil']"
            ]
          },
          "metadata": {
            "tags": []
          },
          "execution_count": 5
        }
      ]
    },
    {
      "cell_type": "code",
      "metadata": {
        "id": "PQaowe8bIBWD",
        "colab_type": "code",
        "colab": {
          "base_uri": "https://localhost:8080/",
          "height": 36
        },
        "outputId": "62861fd7-09de-43b6-8953-b428911f407f"
      },
      "source": [
        "print(\"Total number of Transcations : \",len(transcations))"
      ],
      "execution_count": 6,
      "outputs": [
        {
          "output_type": "stream",
          "text": [
            "Total number of Transcations :  7501\n"
          ],
          "name": "stdout"
        }
      ]
    },
    {
      "cell_type": "markdown",
      "metadata": {
        "id": "OSLViz-AMe9N",
        "colab_type": "text"
      },
      "source": [
        "Support : Total percentage of transcations under analysis that show A is bought with B, AKA relative frequency\n",
        "\n",
        "Confidence : Total percentage of transcations under analysis that show person who bought A has also bought B(just like Amazon's recommendation) AKA Reliability of rule."
      ]
    },
    {
      "cell_type": "markdown",
      "metadata": {
        "id": "2bNPYJ6lIBWP",
        "colab_type": "text"
      },
      "source": [
        "For example,\n",
        "Support = (3x7) / 7501 i.e product buyed at least 3 times \n",
        "\n",
        "Confidence = 0.20 i.e 20% \n",
        "lift = 3\n",
        "\n",
        "min_length = 2 i.e atleast 2 different products"
      ]
    },
    {
      "cell_type": "code",
      "metadata": {
        "id": "gy7gQ29LIBWR",
        "colab_type": "code",
        "colab": {}
      },
      "source": [
        "from apyori import apriori\n",
        "rules = apriori(transcations,min_support= 0.003,min_confidence= 0.2,min_lift= 3, min_length = 2)"
      ],
      "execution_count": 7,
      "outputs": []
    },
    {
      "cell_type": "markdown",
      "metadata": {
        "id": "HVpbVrW7IBWZ",
        "colab_type": "text"
      },
      "source": [
        "#### Visualizing Rules now."
      ]
    },
    {
      "cell_type": "code",
      "metadata": {
        "id": "9VlGIH69IBWb",
        "colab_type": "code",
        "colab": {}
      },
      "source": [
        "results = list(rules)"
      ],
      "execution_count": 8,
      "outputs": []
    },
    {
      "cell_type": "code",
      "metadata": {
        "id": "ReWkmn9fIBWh",
        "colab_type": "code",
        "colab": {}
      },
      "source": [
        "clean_results = []\n",
        "for i in range(0, len(results)):\n",
        "    clean_results.append('RULE: ' + str(results[i][0]) + '   SUPPORT:' + str(results[i][1]) + '   CONFIDENCE:' + str(results[i][2][0][2]) + '   LIFT:' + str(results[i][2][0][3]))"
      ],
      "execution_count": 9,
      "outputs": []
    },
    {
      "cell_type": "code",
      "metadata": {
        "id": "585CRpO4IBWo",
        "colab_type": "code",
        "colab": {
          "base_uri": "https://localhost:8080/",
          "height": 36
        },
        "outputId": "d292e9c3-8b12-444c-8ff6-b68c8c8bbc44"
      },
      "source": [
        "print(\"Number of rules generated : \", len(clean_results))"
      ],
      "execution_count": 10,
      "outputs": [
        {
          "output_type": "stream",
          "text": [
            "Number of rules generated :  160\n"
          ],
          "name": "stdout"
        }
      ]
    },
    {
      "cell_type": "code",
      "metadata": {
        "id": "v9eO_EyJP13l",
        "colab_type": "code",
        "colab": {
          "base_uri": "https://localhost:8080/",
          "height": 55
        },
        "outputId": "0530e115-323f-4d31-c449-5e1c196dd201"
      },
      "source": [
        "clean_results[7]"
      ],
      "execution_count": 11,
      "outputs": [
        {
          "output_type": "execute_result",
          "data": {
            "application/vnd.google.colaboratory.intrinsic": {
              "type": "string"
            },
            "text/plain": [
              "\"RULE: frozenset({'olive oil', 'whole wheat pasta'})   SUPPORT:0.007998933475536596   CONFIDENCE:0.2714932126696833   LIFT:4.122410097642296\""
            ]
          },
          "metadata": {
            "tags": []
          },
          "execution_count": 11
        }
      ]
    },
    {
      "cell_type": "markdown",
      "metadata": {
        "id": "CvehhFhCP8cm",
        "colab_type": "text"
      },
      "source": [
        "It is quite obvious that customer use Olive Oil for making Pasta. As, Adding olive oil to boiling pasta water actually prevents the water from boiling over, it's not meant to keep noodles from sticking together."
      ]
    },
    {
      "cell_type": "markdown",
      "metadata": {
        "id": "O99mKZptNgfX",
        "colab_type": "text"
      },
      "source": [
        "There are lots of modern packages and tools for such analysis. I encourage you to explore and apply those packages. Thanks!"
      ]
    }
  ]
}